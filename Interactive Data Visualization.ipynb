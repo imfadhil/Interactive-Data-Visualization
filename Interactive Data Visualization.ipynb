{
  "nbformat": 4,
  "nbformat_minor": 0,
  "metadata": {
    "colab": {
      "name": "Tugas Besar 2_Imaduddin M Fadhil_1301184115.ipynb",
      "provenance": [],
      "collapsed_sections": []
    },
    "kernelspec": {
      "name": "python3",
      "display_name": "Python 3"
    },
    "language_info": {
      "name": "python"
    }
  },
  "cells": [
    {
      "cell_type": "markdown",
      "metadata": {
        "id": "B8TAGsbSXNZP"
      },
      "source": [
        "# Tugas Besar 2 - Interactive Data Visualization\n",
        "\n",
        "\n",
        "> Imaduddin M. Fadhil - 1301184115\n",
        "\n",
        "\n",
        "> IF-41-GAB03\n",
        "\n",
        "\n",
        "\n",
        "\n"
      ]
    },
    {
      "cell_type": "markdown",
      "metadata": {
        "id": "hm0bFpgUXND4"
      },
      "source": [
        "# Import Library"
      ]
    },
    {
      "cell_type": "code",
      "metadata": {
        "id": "7SlGAV8KUlJc"
      },
      "source": [
        "import pandas as pd\n",
        "\n",
        "# Bokeh libraries\n",
        "from bokeh.plotting import figure, show\n",
        "from bokeh.io import output_file\n",
        "from bokeh.models import ColumnDataSource, HoverTool, CustomJS, Select\n",
        "from bokeh.layouts import row, column"
      ],
      "execution_count": null,
      "outputs": []
    },
    {
      "cell_type": "markdown",
      "metadata": {
        "id": "ivSNruDmXiYV"
      },
      "source": [
        "# Import Data"
      ]
    },
    {
      "cell_type": "markdown",
      "metadata": {
        "id": "4d8HXt5dmh0Z"
      },
      "source": [
        "import data kedalam google colab di folder '/content/'"
      ]
    },
    {
      "cell_type": "code",
      "metadata": {
        "id": "d9oG7PuzXmlo"
      },
      "source": [
        "#Read CSV File\n",
        "df = pd.read_csv('/content/stock_market.csv')"
      ],
      "execution_count": null,
      "outputs": []
    },
    {
      "cell_type": "markdown",
      "metadata": {
        "id": "XynbHCy7X0t8"
      },
      "source": [
        "# Data Exploration"
      ]
    },
    {
      "cell_type": "code",
      "metadata": {
        "colab": {
          "base_uri": "https://localhost:8080/"
        },
        "id": "kg_uHIAMX3NB",
        "outputId": "9a3d1e46-fee1-4781-fac6-2ab617ddfd94"
      },
      "source": [
        "df.info()"
      ],
      "execution_count": null,
      "outputs": [
        {
          "output_type": "stream",
          "text": [
            "<class 'pandas.core.frame.DataFrame'>\n",
            "RangeIndex: 1474 entries, 0 to 1473\n",
            "Data columns (total 5 columns):\n",
            " #   Column           Non-Null Count  Dtype  \n",
            "---  ------           --------------  -----  \n",
            " 0   Date             1474 non-null   object \n",
            " 1   Adj Close        1474 non-null   float64\n",
            " 2   Volume           1474 non-null   float64\n",
            " 3   Day_Perc_Change  1474 non-null   float64\n",
            " 4   Name             1474 non-null   object \n",
            "dtypes: float64(3), object(2)\n",
            "memory usage: 57.7+ KB\n"
          ],
          "name": "stdout"
        }
      ]
    },
    {
      "cell_type": "code",
      "metadata": {
        "colab": {
          "base_uri": "https://localhost:8080/",
          "height": 202
        },
        "id": "hKaGiXQhX90V",
        "outputId": "012074f6-66ef-4b7b-a77c-8e5ed4f1cd8c"
      },
      "source": [
        "df.head()"
      ],
      "execution_count": null,
      "outputs": [
        {
          "output_type": "execute_result",
          "data": {
            "text/html": [
              "<div>\n",
              "<style scoped>\n",
              "    .dataframe tbody tr th:only-of-type {\n",
              "        vertical-align: middle;\n",
              "    }\n",
              "\n",
              "    .dataframe tbody tr th {\n",
              "        vertical-align: top;\n",
              "    }\n",
              "\n",
              "    .dataframe thead th {\n",
              "        text-align: right;\n",
              "    }\n",
              "</style>\n",
              "<table border=\"1\" class=\"dataframe\">\n",
              "  <thead>\n",
              "    <tr style=\"text-align: right;\">\n",
              "      <th></th>\n",
              "      <th>Date</th>\n",
              "      <th>Adj Close</th>\n",
              "      <th>Volume</th>\n",
              "      <th>Day_Perc_Change</th>\n",
              "      <th>Name</th>\n",
              "    </tr>\n",
              "  </thead>\n",
              "  <tbody>\n",
              "    <tr>\n",
              "      <th>0</th>\n",
              "      <td>2018-10-22</td>\n",
              "      <td>26153.150391</td>\n",
              "      <td>2.222812e+09</td>\n",
              "      <td>2.315014</td>\n",
              "      <td>HANG SENG</td>\n",
              "    </tr>\n",
              "    <tr>\n",
              "      <th>1</th>\n",
              "      <td>2018-10-23</td>\n",
              "      <td>25346.550781</td>\n",
              "      <td>1.772912e+09</td>\n",
              "      <td>-3.084139</td>\n",
              "      <td>HANG SENG</td>\n",
              "    </tr>\n",
              "    <tr>\n",
              "      <th>2</th>\n",
              "      <td>2018-10-24</td>\n",
              "      <td>25249.779297</td>\n",
              "      <td>1.962754e+09</td>\n",
              "      <td>-0.381794</td>\n",
              "      <td>HANG SENG</td>\n",
              "    </tr>\n",
              "    <tr>\n",
              "      <th>3</th>\n",
              "      <td>2018-10-25</td>\n",
              "      <td>24994.460938</td>\n",
              "      <td>2.288634e+09</td>\n",
              "      <td>-1.011171</td>\n",
              "      <td>HANG SENG</td>\n",
              "    </tr>\n",
              "    <tr>\n",
              "      <th>4</th>\n",
              "      <td>2018-10-26</td>\n",
              "      <td>24717.630859</td>\n",
              "      <td>1.688396e+09</td>\n",
              "      <td>-1.107566</td>\n",
              "      <td>HANG SENG</td>\n",
              "    </tr>\n",
              "  </tbody>\n",
              "</table>\n",
              "</div>"
            ],
            "text/plain": [
              "         Date     Adj Close        Volume  Day_Perc_Change       Name\n",
              "0  2018-10-22  26153.150391  2.222812e+09         2.315014  HANG SENG\n",
              "1  2018-10-23  25346.550781  1.772912e+09        -3.084139  HANG SENG\n",
              "2  2018-10-24  25249.779297  1.962754e+09        -0.381794  HANG SENG\n",
              "3  2018-10-25  24994.460938  2.288634e+09        -1.011171  HANG SENG\n",
              "4  2018-10-26  24717.630859  1.688396e+09        -1.107566  HANG SENG"
            ]
          },
          "metadata": {
            "tags": []
          },
          "execution_count": 39
        }
      ]
    },
    {
      "cell_type": "markdown",
      "metadata": {
        "id": "Z8xKl3GgYn-h"
      },
      "source": [
        "Change Date Dtype to datetime"
      ]
    },
    {
      "cell_type": "code",
      "metadata": {
        "id": "B8syx7juYPH7"
      },
      "source": [
        "df['Date'] = pd.to_datetime(df['Date'], infer_datetime_format=True)"
      ],
      "execution_count": null,
      "outputs": []
    },
    {
      "cell_type": "markdown",
      "metadata": {
        "id": "oKV8-69YY2O_"
      },
      "source": [
        "# Data Visualization"
      ]
    },
    {
      "cell_type": "markdown",
      "metadata": {
        "id": "xp9S6f_DnsIr"
      },
      "source": [
        "**Level 3**\n",
        "\n",
        "---\n",
        "\n",
        "Aspek Interaktif yang diterapkan : \n",
        "\n",
        "\n",
        "---\n",
        "\n",
        "\n",
        "\n",
        "memungkinkan user memilih parameter yang akan ditampilkan:\n",
        "1.   Adj Close\n",
        "2.   Volume\n",
        "3.   Day_Perc_Change\n",
        "\n",
        "\n",
        "---\n",
        "\n",
        "\n",
        "\n",
        "memungkinkan user untuk menyembunyikan data untuk indeks pasar saham tertentu dengan\n",
        "mengklik legend dari indeks tersebut.\n",
        "\n",
        "\n"
      ]
    },
    {
      "cell_type": "code",
      "metadata": {
        "id": "9W3Ves9fn4Hu"
      },
      "source": [
        "# Output to file\n",
        "output_file('Tugas Besar 2.html',\n",
        "            title='Adj Close for each Stocks')\n",
        "\n",
        "# Create a ColumnsDataSource for each stock\n",
        "nikkei_cds = ColumnDataSource(df[df[\"Name\"] == \"NIKKEI\"])\n",
        "hangseng_cds = ColumnDataSource(df[df[\"Name\"] == \"HANG SENG\"])\n",
        "nasdaq_cds = ColumnDataSource(df[df[\"Name\"] == \"NASDAQ\"])\n",
        "\n",
        "# Configure Hover Tooltips\n",
        "tooltips_adjclose = [(\"Nama Saham\", \"@Name\"),\n",
        "                   (\"Adj Close\", \"@Adj Close\")]\n",
        "tooltips_volume = [(\"Nama Saham\", \"@Name\"),\n",
        "                (\"volume\", \"@Volume\")]\n",
        "tooltips_dayperc = [(\"Nama Saham\", \"@Name\"),\n",
        "                  (\"Day Perc Change\", \"@Day_Perc_Change\")]\n",
        "\n",
        "# Create and configure the figure\n",
        "fig = figure(plot_height=600, plot_width=800,\n",
        "             x_axis_type='datetime',\n",
        "             x_axis_label='Date',\n",
        "             y_axis_label='Adj Close',\n",
        "             title='Adj Close for each Stocks',\n",
        "             toolbar_location='below')\n",
        "\n",
        "fig.line(x='Date', y='Adj Close', source=nikkei_cds, legend_label='Nikkei', color='#D50000')\n",
        "fig.line(x='Date', y='Adj Close', source=hangseng_cds, legend_label='Hang Seng', color='#EA80FC')\n",
        "fig.line(x='Date', y='Adj Close', source=nasdaq_cds, legend_label='Nasdaq', color='#90CAF9')\n",
        "\n",
        "fig.legend.location = \"top_left\"\n",
        "fig.legend.click_policy=\"hide\"\n",
        "\n",
        "fig.add_tools(HoverTool(tooltips=tooltips_adjclose))"
      ],
      "execution_count": null,
      "outputs": []
    },
    {
      "cell_type": "code",
      "metadata": {
        "id": "7ZQXhv7iU8A2"
      },
      "source": [
        "# Create a callback for selecting parameter\n",
        "options = [tooltips_adjclose, tooltips_volume, tooltips_dayperc]\n",
        "\n",
        "callback_param = CustomJS(args=dict(hover=fig.hover, options=options),\n",
        "                    code=\"\"\"\n",
        "                         if (cb_obj.value=='Normal') {\n",
        "                            hover[0].tooltips=options[0]\n",
        "                         } else if (cb_obj.value=='Adj Close') {\n",
        "                            hover[0].tooltips=options[0]\n",
        "                         } else if (cb_obj.value=='Volume') {\n",
        "                            hover[0].tooltips=options[1]\n",
        "                         } else {\n",
        "                            hover[0].tooltips=options[2]\n",
        "                         }\n",
        "                         \"\"\")\n",
        "\n",
        "# Dropdown menu for selecting parameter\n",
        "param_select = Select(options=['Adj Close', 'Volume', 'Day_Perc_Change'], title='Select Parameter')\n",
        "param_select.js_on_change(\"value\", callback_param)"
      ],
      "execution_count": null,
      "outputs": []
    },
    {
      "cell_type": "markdown",
      "metadata": {
        "id": "dms3G2Vt03IQ"
      },
      "source": [
        "# Output"
      ]
    },
    {
      "cell_type": "code",
      "metadata": {
        "id": "zeMvmRiqVC2M"
      },
      "source": [
        "show(column(param_select, fig))"
      ],
      "execution_count": null,
      "outputs": []
    }
  ]
}